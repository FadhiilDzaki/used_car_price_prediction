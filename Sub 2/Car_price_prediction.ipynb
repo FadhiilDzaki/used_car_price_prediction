{
 "cells": [
  {
   "cell_type": "markdown",
   "metadata": {},
   "source": [
    "# **Used Car Price Prediction**"
   ]
  },
  {
   "cell_type": "markdown",
   "metadata": {},
   "source": [
    "# Business Understanding"
   ]
  },
  {
   "cell_type": "markdown",
   "metadata": {},
   "source": [
    "## Dataset Description\n",
    "Source: [Kaggle | Car Price Prediction Challenge](https://www.kaggle.com/datasets/deepcontractor/car-price-prediction-challenge)\n",
    "\n",
    "This dataset provides detailed information about used cars, including their specifications and pricing details. The dataset consists of approximately 19237 rows and 18 columns, covering various types of used cars such as sedans, SUVs, hatchbacks, etc.\n",
    "\n",
    "| Column           | Description                                        |\n",
    "| ---------------- | -------------------------------------------------- |\n",
    "| ID               | Unique identifier for each car listing.            |\n",
    "| Price            | Selling price of the car.                          |\n",
    "| Levy             | Tax applied to importing/exporting the car.        |\n",
    "| Manufacturer     | Brand or company that produced the car.            |\n",
    "| Model            | Specific model of the car.                         |\n",
    "| Prod. year       | Year the car was manufactured.                     |\n",
    "| Category         | Type of car.                                       |\n",
    "| Leather interior | Indicates whether the car has leather interior.    |\n",
    "| Fuel type        | Type of fuel the car uses.                         |\n",
    "| Engine volume    | Engine displacement.                               |\n",
    "| Mileage          | Distance the car has traveled.                     |\n",
    "| Cylinders        | Number of cylinders in the engine.                 |\n",
    "| Gear box type    | Transmission type.                                 |\n",
    "| Drive wheels     | Drivetrain configuration.                          |\n",
    "| Doors            | Number of doors on the car.                        |\n",
    "| Wheel            | Steering position.                                 |\n",
    "| Color            | Exterior color of the car.                         |\n",
    "| Airbags          | Number of airbags installed in the car for safety. |\n",
    "\n",
    "## Background\n",
    "\n",
    "The US used car market is influenced by various factors, including age, fuel efficiency, and engine size, all of which contribute to price fluctuations. Buyers and sellers struggle with pricing accuracy, often relying on subjective assessments rather than data-driven insights. By analyzing structured attributes such as mileage, transmission type, etc., machine learning models can offer valuable predictions to improve pricing transparency and decision-making.\n",
    "\n",
    "## Problem Statement\n",
    "\n",
    "Using regression-based machine learning techniques, this project aims to develop a predictive model that estimates accurate resale values of used cars based on historical data. The goal is to achieve an RMSE of less than 200 EUR, ensuring reliable pricing predictions. The model will be trained and evaluated within a six-month timeframe, facilitating timely implementation for practical market use. This solution enhances price transparency for buyers and sellers, contributing to greater efficiency and fairness in the US used car market.\n",
    "\n",
    "## Problem Breakdown\n"
   ]
  },
  {
   "cell_type": "markdown",
   "metadata": {},
   "source": [
    "# Library & Function"
   ]
  },
  {
   "cell_type": "markdown",
   "metadata": {},
   "source": [
    "## Library"
   ]
  },
  {
   "cell_type": "code",
   "execution_count": 16,
   "metadata": {},
   "outputs": [],
   "source": [
    "# data manipulation\n",
    "import pandas as pd\n",
    "import numpy as np\n",
    "\n",
    "# data viz\n",
    "import seaborn as sns\n",
    "import matplotlib.pyplot as plt"
   ]
  },
  {
   "cell_type": "markdown",
   "metadata": {},
   "source": [
    "## Function"
   ]
  },
  {
   "cell_type": "code",
   "execution_count": 17,
   "metadata": {},
   "outputs": [],
   "source": [
    "# overview\n",
    "def check_overview(df):\n",
    "    '''\n",
    "    df_overview adalah fungsi yang digunakan untuk melihat informasi seputar dataset.\n",
    "\n",
    "    Argumen:\n",
    "    df = dataset yang digunakan.\n",
    "\n",
    "    Output:\n",
    "    Informasi overall dataset, missing value, duplicated value dan jumlah unique value setiap kolom.\n",
    "    '''\n",
    "    # df overview\n",
    "    print(df.info())\n",
    "\n",
    "    # cek missing value\n",
    "    print(f\"\\nmissing values: {round(((df.isna().sum().sum())/len(df))*100, 2)}% \\n{df.isna().sum()[df.isna().sum()>0]}\")\n",
    "\n",
    "    # cek duplicated value\n",
    "    print(f\"\\nduplicated values: {round(((df.duplicated().sum())/len(df))*100,2)}% \\n{df.duplicated().sum()}\\n\")\n",
    "\n",
    "    # cek nama kolom & jumlah unique value\n",
    "    for col in df:\n",
    "        print(f'{col}-#nunique: {df[col].nunique()}')"
   ]
  },
  {
   "cell_type": "markdown",
   "metadata": {},
   "source": [
    "# Load Data"
   ]
  },
  {
   "cell_type": "code",
   "execution_count": 18,
   "metadata": {},
   "outputs": [
    {
     "data": {
      "text/html": [
       "<div>\n",
       "<style scoped>\n",
       "    .dataframe tbody tr th:only-of-type {\n",
       "        vertical-align: middle;\n",
       "    }\n",
       "\n",
       "    .dataframe tbody tr th {\n",
       "        vertical-align: top;\n",
       "    }\n",
       "\n",
       "    .dataframe thead th {\n",
       "        text-align: right;\n",
       "    }\n",
       "</style>\n",
       "<table border=\"1\" class=\"dataframe\">\n",
       "  <thead>\n",
       "    <tr style=\"text-align: right;\">\n",
       "      <th></th>\n",
       "      <th>ID</th>\n",
       "      <th>Price</th>\n",
       "      <th>Levy</th>\n",
       "      <th>Manufacturer</th>\n",
       "      <th>Model</th>\n",
       "      <th>Prod. year</th>\n",
       "      <th>Category</th>\n",
       "      <th>Leather interior</th>\n",
       "      <th>Fuel type</th>\n",
       "      <th>Engine volume</th>\n",
       "      <th>Mileage</th>\n",
       "      <th>Cylinders</th>\n",
       "      <th>Gear box type</th>\n",
       "      <th>Drive wheels</th>\n",
       "      <th>Doors</th>\n",
       "      <th>Wheel</th>\n",
       "      <th>Color</th>\n",
       "      <th>Airbags</th>\n",
       "    </tr>\n",
       "  </thead>\n",
       "  <tbody>\n",
       "    <tr>\n",
       "      <th>19230</th>\n",
       "      <td>45760891</td>\n",
       "      <td>470</td>\n",
       "      <td>645</td>\n",
       "      <td>TOYOTA</td>\n",
       "      <td>Prius</td>\n",
       "      <td>2011</td>\n",
       "      <td>Hatchback</td>\n",
       "      <td>Yes</td>\n",
       "      <td>Hybrid</td>\n",
       "      <td>1.8</td>\n",
       "      <td>307325 km</td>\n",
       "      <td>4.0</td>\n",
       "      <td>Automatic</td>\n",
       "      <td>Front</td>\n",
       "      <td>04-May</td>\n",
       "      <td>Left wheel</td>\n",
       "      <td>Silver</td>\n",
       "      <td>12</td>\n",
       "    </tr>\n",
       "    <tr>\n",
       "      <th>19231</th>\n",
       "      <td>45772306</td>\n",
       "      <td>5802</td>\n",
       "      <td>1055</td>\n",
       "      <td>MERCEDES-BENZ</td>\n",
       "      <td>E 350</td>\n",
       "      <td>2013</td>\n",
       "      <td>Sedan</td>\n",
       "      <td>Yes</td>\n",
       "      <td>Diesel</td>\n",
       "      <td>3.5</td>\n",
       "      <td>107800 km</td>\n",
       "      <td>6.0</td>\n",
       "      <td>Automatic</td>\n",
       "      <td>Rear</td>\n",
       "      <td>04-May</td>\n",
       "      <td>Left wheel</td>\n",
       "      <td>Grey</td>\n",
       "      <td>12</td>\n",
       "    </tr>\n",
       "    <tr>\n",
       "      <th>19232</th>\n",
       "      <td>45798355</td>\n",
       "      <td>8467</td>\n",
       "      <td>-</td>\n",
       "      <td>MERCEDES-BENZ</td>\n",
       "      <td>CLK 200</td>\n",
       "      <td>1999</td>\n",
       "      <td>Coupe</td>\n",
       "      <td>Yes</td>\n",
       "      <td>CNG</td>\n",
       "      <td>2.0 Turbo</td>\n",
       "      <td>300000 km</td>\n",
       "      <td>4.0</td>\n",
       "      <td>Manual</td>\n",
       "      <td>Rear</td>\n",
       "      <td>02-Mar</td>\n",
       "      <td>Left wheel</td>\n",
       "      <td>Silver</td>\n",
       "      <td>5</td>\n",
       "    </tr>\n",
       "    <tr>\n",
       "      <th>19233</th>\n",
       "      <td>45778856</td>\n",
       "      <td>15681</td>\n",
       "      <td>831</td>\n",
       "      <td>HYUNDAI</td>\n",
       "      <td>Sonata</td>\n",
       "      <td>2011</td>\n",
       "      <td>Sedan</td>\n",
       "      <td>Yes</td>\n",
       "      <td>Petrol</td>\n",
       "      <td>2.4</td>\n",
       "      <td>161600 km</td>\n",
       "      <td>4.0</td>\n",
       "      <td>Tiptronic</td>\n",
       "      <td>Front</td>\n",
       "      <td>04-May</td>\n",
       "      <td>Left wheel</td>\n",
       "      <td>Red</td>\n",
       "      <td>8</td>\n",
       "    </tr>\n",
       "    <tr>\n",
       "      <th>19234</th>\n",
       "      <td>45804997</td>\n",
       "      <td>26108</td>\n",
       "      <td>836</td>\n",
       "      <td>HYUNDAI</td>\n",
       "      <td>Tucson</td>\n",
       "      <td>2010</td>\n",
       "      <td>Jeep</td>\n",
       "      <td>Yes</td>\n",
       "      <td>Diesel</td>\n",
       "      <td>2</td>\n",
       "      <td>116365 km</td>\n",
       "      <td>4.0</td>\n",
       "      <td>Automatic</td>\n",
       "      <td>Front</td>\n",
       "      <td>04-May</td>\n",
       "      <td>Left wheel</td>\n",
       "      <td>Grey</td>\n",
       "      <td>4</td>\n",
       "    </tr>\n",
       "    <tr>\n",
       "      <th>19235</th>\n",
       "      <td>45793526</td>\n",
       "      <td>5331</td>\n",
       "      <td>1288</td>\n",
       "      <td>CHEVROLET</td>\n",
       "      <td>Captiva</td>\n",
       "      <td>2007</td>\n",
       "      <td>Jeep</td>\n",
       "      <td>Yes</td>\n",
       "      <td>Diesel</td>\n",
       "      <td>2</td>\n",
       "      <td>51258 km</td>\n",
       "      <td>4.0</td>\n",
       "      <td>Automatic</td>\n",
       "      <td>Front</td>\n",
       "      <td>04-May</td>\n",
       "      <td>Left wheel</td>\n",
       "      <td>Black</td>\n",
       "      <td>4</td>\n",
       "    </tr>\n",
       "    <tr>\n",
       "      <th>19236</th>\n",
       "      <td>45813273</td>\n",
       "      <td>470</td>\n",
       "      <td>753</td>\n",
       "      <td>HYUNDAI</td>\n",
       "      <td>Sonata</td>\n",
       "      <td>2012</td>\n",
       "      <td>Sedan</td>\n",
       "      <td>Yes</td>\n",
       "      <td>Hybrid</td>\n",
       "      <td>2.4</td>\n",
       "      <td>186923 km</td>\n",
       "      <td>4.0</td>\n",
       "      <td>Automatic</td>\n",
       "      <td>Front</td>\n",
       "      <td>04-May</td>\n",
       "      <td>Left wheel</td>\n",
       "      <td>White</td>\n",
       "      <td>12</td>\n",
       "    </tr>\n",
       "  </tbody>\n",
       "</table>\n",
       "</div>"
      ],
      "text/plain": [
       "             ID  Price  Levy   Manufacturer    Model  Prod. year   Category  \\\n",
       "19230  45760891    470   645         TOYOTA    Prius        2011  Hatchback   \n",
       "19231  45772306   5802  1055  MERCEDES-BENZ    E 350        2013      Sedan   \n",
       "19232  45798355   8467     -  MERCEDES-BENZ  CLK 200        1999      Coupe   \n",
       "19233  45778856  15681   831        HYUNDAI   Sonata        2011      Sedan   \n",
       "19234  45804997  26108   836        HYUNDAI   Tucson        2010       Jeep   \n",
       "19235  45793526   5331  1288      CHEVROLET  Captiva        2007       Jeep   \n",
       "19236  45813273    470   753        HYUNDAI   Sonata        2012      Sedan   \n",
       "\n",
       "      Leather interior Fuel type Engine volume    Mileage  Cylinders  \\\n",
       "19230              Yes    Hybrid           1.8  307325 km        4.0   \n",
       "19231              Yes    Diesel           3.5  107800 km        6.0   \n",
       "19232              Yes       CNG     2.0 Turbo  300000 km        4.0   \n",
       "19233              Yes    Petrol           2.4  161600 km        4.0   \n",
       "19234              Yes    Diesel             2  116365 km        4.0   \n",
       "19235              Yes    Diesel             2   51258 km        4.0   \n",
       "19236              Yes    Hybrid           2.4  186923 km        4.0   \n",
       "\n",
       "      Gear box type Drive wheels   Doors       Wheel   Color  Airbags  \n",
       "19230     Automatic        Front  04-May  Left wheel  Silver       12  \n",
       "19231     Automatic         Rear  04-May  Left wheel    Grey       12  \n",
       "19232        Manual         Rear  02-Mar  Left wheel  Silver        5  \n",
       "19233     Tiptronic        Front  04-May  Left wheel     Red        8  \n",
       "19234     Automatic        Front  04-May  Left wheel    Grey        4  \n",
       "19235     Automatic        Front  04-May  Left wheel   Black        4  \n",
       "19236     Automatic        Front  04-May  Left wheel   White       12  "
      ]
     },
     "execution_count": 18,
     "metadata": {},
     "output_type": "execute_result"
    }
   ],
   "source": [
    "# load data from csv\n",
    "df = pd.read_csv('car_price_prediction.csv')\n",
    "df.tail(7)"
   ]
  },
  {
   "cell_type": "code",
   "execution_count": 19,
   "metadata": {},
   "outputs": [
    {
     "name": "stdout",
     "output_type": "stream",
     "text": [
      "<class 'pandas.core.frame.DataFrame'>\n",
      "RangeIndex: 19237 entries, 0 to 19236\n",
      "Data columns (total 18 columns):\n",
      " #   Column            Non-Null Count  Dtype  \n",
      "---  ------            --------------  -----  \n",
      " 0   ID                19237 non-null  int64  \n",
      " 1   Price             19237 non-null  int64  \n",
      " 2   Levy              19237 non-null  object \n",
      " 3   Manufacturer      19237 non-null  object \n",
      " 4   Model             19237 non-null  object \n",
      " 5   Prod. year        19237 non-null  int64  \n",
      " 6   Category          19237 non-null  object \n",
      " 7   Leather interior  19237 non-null  object \n",
      " 8   Fuel type         19237 non-null  object \n",
      " 9   Engine volume     19237 non-null  object \n",
      " 10  Mileage           19237 non-null  object \n",
      " 11  Cylinders         19237 non-null  float64\n",
      " 12  Gear box type     19237 non-null  object \n",
      " 13  Drive wheels      19237 non-null  object \n",
      " 14  Doors             19237 non-null  object \n",
      " 15  Wheel             19237 non-null  object \n",
      " 16  Color             19237 non-null  object \n",
      " 17  Airbags           19237 non-null  int64  \n",
      "dtypes: float64(1), int64(4), object(13)\n",
      "memory usage: 2.6+ MB\n",
      "None\n",
      "\n",
      "missing values: 0.0% \n",
      "Series([], dtype: int64)\n",
      "\n",
      "duplicated values: 1.63% \n",
      "313\n",
      "\n",
      "ID-#nunique: 18924\n",
      "Price-#nunique: 2315\n",
      "Levy-#nunique: 559\n",
      "Manufacturer-#nunique: 65\n",
      "Model-#nunique: 1590\n",
      "Prod. year-#nunique: 54\n",
      "Category-#nunique: 11\n",
      "Leather interior-#nunique: 2\n",
      "Fuel type-#nunique: 7\n",
      "Engine volume-#nunique: 107\n",
      "Mileage-#nunique: 7687\n",
      "Cylinders-#nunique: 13\n",
      "Gear box type-#nunique: 4\n",
      "Drive wheels-#nunique: 3\n",
      "Doors-#nunique: 3\n",
      "Wheel-#nunique: 2\n",
      "Color-#nunique: 16\n",
      "Airbags-#nunique: 17\n"
     ]
    }
   ],
   "source": [
    "check_overview(df)"
   ]
  },
  {
   "cell_type": "markdown",
   "metadata": {},
   "source": [
    "Overview:\n",
    "- The data has 19237 entires and 18 column:\n",
    "    - Categorical: Manufacturer, Model, Category, Leather interior, Fuel type, Gear box type, Drive wheels, Wheel, and Color.\n",
    "    - Numerical: Price, Levy, Prod. year, Engine volume, Mileage, Cylinders, Doors, and Airbags.\n",
    "- Some columns have incorrect data type:\n",
    "    - levy, Engine volume, Mileage, and Doors should be float.\n",
    "- Inconsistent column naming. Will be changed to snake_case.\n",
    "- No missing values were detected, but there is a \"-\" value in Levy, which could be a non-standard missing value. Another potential non-standard missing value needs to be checked on the other columns, especially the categorical columns.\n",
    "- 1.63% entries are duplicate. Will be delete."
   ]
  },
  {
   "cell_type": "markdown",
   "metadata": {},
   "source": [
    "# Data Cleaning"
   ]
  },
  {
   "cell_type": "markdown",
   "metadata": {},
   "source": [
    "## Column Name Handling"
   ]
  },
  {
   "cell_type": "markdown",
   "metadata": {},
   "source": [
    "Column names have Inconsistent type and will be changed to snake_case."
   ]
  },
  {
   "cell_type": "code",
   "execution_count": 20,
   "metadata": {},
   "outputs": [
    {
     "data": {
      "text/plain": [
       "Index(['id', 'price', 'levy', 'manufacturer', 'model', 'prod._year',\n",
       "       'category', 'leather_interior', 'fuel_type', 'engine_volume', 'mileage',\n",
       "       'cylinders', 'gear_box_type', 'drive_wheels', 'doors', 'wheel', 'color',\n",
       "       'airbags'],\n",
       "      dtype='object')"
      ]
     },
     "execution_count": 20,
     "metadata": {},
     "output_type": "execute_result"
    }
   ],
   "source": [
    "# change col. name type to snake case\n",
    "df.columns = df.columns.str.lower().str.replace(' ', '_')\n",
    "\n",
    "# check\n",
    "df.columns"
   ]
  },
  {
   "cell_type": "markdown",
   "metadata": {},
   "source": [
    "Now, columns have consistent type and more easy to retrieve them."
   ]
  },
  {
   "cell_type": "code",
   "execution_count": 21,
   "metadata": {},
   "outputs": [],
   "source": [
    "# save\n",
    "df_org = df.copy()"
   ]
  },
  {
   "cell_type": "code",
   "execution_count": 22,
   "metadata": {},
   "outputs": [],
   "source": [
    "# load\n",
    "df = df_org.copy()"
   ]
  },
  {
   "cell_type": "markdown",
   "metadata": {},
   "source": [
    "## Duplicate Handling"
   ]
  },
  {
   "cell_type": "code",
   "execution_count": 29,
   "metadata": {},
   "outputs": [
    {
     "name": "stdout",
     "output_type": "stream",
     "text": [
      "remaining data: 18924\n",
      "duplicated data: 0\n"
     ]
    }
   ],
   "source": [
    "# drop duplicate\n",
    "df.drop_duplicates(keep='last',inplace=True)\n",
    "\n",
    "# check\n",
    "print('remaining data:',len(df))\n",
    "print('duplicated data:',df.duplicated().sum())"
   ]
  },
  {
   "cell_type": "markdown",
   "metadata": {},
   "source": [
    "The duplicate data has been removed and I keep the last to prevent it from losing too much data. 18924 records remaining after deletion."
   ]
  },
  {
   "cell_type": "markdown",
   "metadata": {},
   "source": [
    "## Missing Value Handling"
   ]
  },
  {
   "cell_type": "markdown",
   "metadata": {},
   "source": [
    "### Check Non-standard Missing Value"
   ]
  },
  {
   "cell_type": "code",
   "execution_count": 30,
   "metadata": {},
   "outputs": [
    {
     "data": {
      "text/plain": [
       "Index(['id', 'price', 'levy', 'manufacturer', 'model', 'prod._year',\n",
       "       'category', 'leather_interior', 'fuel_type', 'engine_volume', 'mileage',\n",
       "       'cylinders', 'gear_box_type', 'drive_wheels', 'doors', 'wheel', 'color',\n",
       "       'airbags'],\n",
       "      dtype='object')"
      ]
     },
     "execution_count": 30,
     "metadata": {},
     "output_type": "execute_result"
    }
   ],
   "source": [
    "df.columns"
   ]
  },
  {
   "cell_type": "code",
   "execution_count": 66,
   "metadata": {},
   "outputs": [
    {
     "name": "stdout",
     "output_type": "stream",
     "text": [
      "Categorical value check\n",
      "manufacturer ['LEXUS' 'HONDA' 'FORD' 'HYUNDAI' 'TOYOTA' 'MERCEDES-BENZ' 'OPEL'\n",
      " 'PORSCHE' 'JEEP' 'VOLKSWAGEN' 'AUDI' 'RENAULT' 'NISSAN' 'BMW' 'CHEVROLET'\n",
      " 'SUBARU' 'DAEWOO' 'KIA' 'MITSUBISHI' 'SSANGYONG' 'MAZDA' 'GMC' 'FIAT'\n",
      " 'INFINITI' 'ALFA ROMEO' 'SUZUKI' 'ACURA' 'LINCOLN' 'VAZ' 'GAZ' 'CITROEN'\n",
      " 'LAND ROVER' 'MINI' 'DODGE' 'CHRYSLER' 'JAGUAR' 'ISUZU' 'SKODA'\n",
      " 'DAIHATSU' 'BUICK' 'TESLA' 'CADILLAC' 'PEUGEOT' 'BENTLEY' 'VOLVO' 'სხვა'\n",
      " 'HAVAL' 'HUMMER' 'SCION' 'UAZ' 'MERCURY' 'ZAZ' 'ROVER' 'SEAT' 'LANCIA'\n",
      " 'MOSKVICH' 'MASERATI' 'FERRARI' 'SAAB' 'LAMBORGHINI' 'ROLLS-ROYCE'\n",
      " 'PONTIAC' 'SATURN' 'ASTON MARTIN' 'GREATWALL']\n",
      "\n",
      "category ['Jeep' 'Hatchback' 'Sedan' 'Microbus' 'Goods wagon' 'Universal' 'Coupe'\n",
      " 'Minivan' 'Cabriolet' 'Limousine' 'Pickup']\n",
      "\n",
      "fuel_type ['Hybrid' 'Petrol' 'Diesel' 'CNG' 'Plug-in Hybrid' 'LPG' 'Hydrogen']\n",
      "\n",
      "gear_box_type ['Automatic' 'Variator' 'Manual' 'Tiptronic']\n",
      "\n",
      "drive_wheels ['4x4' 'Front' 'Rear']\n",
      "\n",
      "color ['Silver' 'Black' 'White' 'Grey' 'Blue' 'Green' 'Red' 'Sky blue' 'Orange'\n",
      " 'Yellow' 'Brown' 'Golden' 'Beige' 'Carnelian red' 'Purple' 'Pink']\n",
      "\n",
      "Numerical value check\n",
      "levy : {'-'}\n",
      "engine_volume : {'0'}\n",
      "airbags : {0}\n"
     ]
    }
   ],
   "source": [
    "# categorical to check\n",
    "cat_check = ['manufacturer','category','fuel_type','gear_box_type','drive_wheels','color']\n",
    "\n",
    "# categorical value check\n",
    "print('Categorical value check')\n",
    "for i in cat_check:\n",
    "    # print column and its value\n",
    "    print(i,df[i].unique())\n",
    "    print()\n",
    "\n",
    "# numerical value check\n",
    "print('Numerical value check')\n",
    "for i in df.columns:\n",
    "    # detect unique value\n",
    "    unique = set(df[i].unique())\n",
    "    # detect unique value that matched with 0, '-', or '0'\n",
    "    matched = unique.intersection({0, '-', '0'})\n",
    "\n",
    "    # print out matched value\n",
    "    if matched:\n",
    "        print(i,':',matched)\n"
   ]
  },
  {
   "cell_type": "markdown",
   "metadata": {},
   "source": [
    "Its detected that:\n",
    "- manufacturer has 'სხვა'.\n",
    "- category has 'Universal'.\n",
    "- levy has '-'.\n",
    "- engine volume has '0'.\n",
    "- airbags has 0.\n",
    "\n",
    "those columns need to be checked later to determine whether the value is a missing value or not.\n"
   ]
  },
  {
   "cell_type": "markdown",
   "metadata": {},
   "source": [
    "### 'სხვა' in Manufacturer"
   ]
  },
  {
   "cell_type": "code",
   "execution_count": 67,
   "metadata": {},
   "outputs": [
    {
     "data": {
      "text/html": [
       "<div>\n",
       "<style scoped>\n",
       "    .dataframe tbody tr th:only-of-type {\n",
       "        vertical-align: middle;\n",
       "    }\n",
       "\n",
       "    .dataframe tbody tr th {\n",
       "        vertical-align: top;\n",
       "    }\n",
       "\n",
       "    .dataframe thead th {\n",
       "        text-align: right;\n",
       "    }\n",
       "</style>\n",
       "<table border=\"1\" class=\"dataframe\">\n",
       "  <thead>\n",
       "    <tr style=\"text-align: right;\">\n",
       "      <th></th>\n",
       "      <th>id</th>\n",
       "      <th>price</th>\n",
       "      <th>levy</th>\n",
       "      <th>manufacturer</th>\n",
       "      <th>model</th>\n",
       "      <th>prod._year</th>\n",
       "      <th>category</th>\n",
       "      <th>leather_interior</th>\n",
       "      <th>fuel_type</th>\n",
       "      <th>engine_volume</th>\n",
       "      <th>mileage</th>\n",
       "      <th>cylinders</th>\n",
       "      <th>gear_box_type</th>\n",
       "      <th>drive_wheels</th>\n",
       "      <th>doors</th>\n",
       "      <th>wheel</th>\n",
       "      <th>color</th>\n",
       "      <th>airbags</th>\n",
       "    </tr>\n",
       "  </thead>\n",
       "  <tbody>\n",
       "    <tr>\n",
       "      <th>2358</th>\n",
       "      <td>45779593</td>\n",
       "      <td>25089</td>\n",
       "      <td>-</td>\n",
       "      <td>სხვა</td>\n",
       "      <td>IVECO DAYLY</td>\n",
       "      <td>2007</td>\n",
       "      <td>Microbus</td>\n",
       "      <td>No</td>\n",
       "      <td>Diesel</td>\n",
       "      <td>2.3 Turbo</td>\n",
       "      <td>328000 km</td>\n",
       "      <td>4.0</td>\n",
       "      <td>Manual</td>\n",
       "      <td>Rear</td>\n",
       "      <td>04-May</td>\n",
       "      <td>Left wheel</td>\n",
       "      <td>White</td>\n",
       "      <td>1</td>\n",
       "    </tr>\n",
       "    <tr>\n",
       "      <th>4792</th>\n",
       "      <td>39223518</td>\n",
       "      <td>9408</td>\n",
       "      <td>-</td>\n",
       "      <td>სხვა</td>\n",
       "      <td>GONOW</td>\n",
       "      <td>2005</td>\n",
       "      <td>Jeep</td>\n",
       "      <td>Yes</td>\n",
       "      <td>Petrol</td>\n",
       "      <td>2.3</td>\n",
       "      <td>102000 km</td>\n",
       "      <td>4.0</td>\n",
       "      <td>Manual</td>\n",
       "      <td>Rear</td>\n",
       "      <td>04-May</td>\n",
       "      <td>Left wheel</td>\n",
       "      <td>Silver</td>\n",
       "      <td>2</td>\n",
       "    </tr>\n",
       "  </tbody>\n",
       "</table>\n",
       "</div>"
      ],
      "text/plain": [
       "            id  price levy manufacturer        model  prod._year  category  \\\n",
       "2358  45779593  25089    -         სხვა  IVECO DAYLY        2007  Microbus   \n",
       "4792  39223518   9408    -         სხვა        GONOW        2005      Jeep   \n",
       "\n",
       "     leather_interior fuel_type engine_volume    mileage  cylinders  \\\n",
       "2358               No    Diesel     2.3 Turbo  328000 km        4.0   \n",
       "4792              Yes    Petrol           2.3  102000 km        4.0   \n",
       "\n",
       "     gear_box_type drive_wheels   doors       wheel   color  airbags  \n",
       "2358        Manual         Rear  04-May  Left wheel   White        1  \n",
       "4792        Manual         Rear  04-May  Left wheel  Silver        2  "
      ]
     },
     "execution_count": 67,
     "metadata": {},
     "output_type": "execute_result"
    }
   ],
   "source": [
    "df[df['manufacturer'] == 'სხვა']"
   ]
  },
  {
   "cell_type": "markdown",
   "metadata": {},
   "source": [
    "To do:\n",
    "- ~~Change column name to snake_case~~\n",
    "~~Delete duplicate~~\n",
    "- Check another potential non-standard missing value.\n",
    "- Change levy, Engine volume, Mileage, and Doors to float"
   ]
  }
 ],
 "metadata": {
  "kernelspec": {
   "display_name": "base",
   "language": "python",
   "name": "python3"
  },
  "language_info": {
   "codemirror_mode": {
    "name": "ipython",
    "version": 3
   },
   "file_extension": ".py",
   "mimetype": "text/x-python",
   "name": "python",
   "nbconvert_exporter": "python",
   "pygments_lexer": "ipython3",
   "version": "3.12.4"
  }
 },
 "nbformat": 4,
 "nbformat_minor": 2
}
